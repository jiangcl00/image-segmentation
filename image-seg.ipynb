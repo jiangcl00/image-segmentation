{
  "cells": [
    {
      "cell_type": "code",
      "execution_count": 30,
      "metadata": {
        "id": "nGAmJrqyGWlw"
      },
      "outputs": [],
      "source": [
        "import cv2\n",
        "import os\n",
        "import numpy as np\n",
        "from sklearn.ensemble import BaggingClassifier \n",
        "from sklearn.tree import DecisionTreeClassifier\n",
        "from sklearn.model_selection import train_test_split"
      ]
    },
    {
      "cell_type": "code",
      "execution_count": 23,
      "metadata": {
        "id": "L9SuAn8JHuzi"
      },
      "outputs": [],
      "source": [
        "images_path = [...] # image paths\n",
        "labels = [...] # cleaned labels"
      ]
    },
    {
      "cell_type": "code",
      "execution_count": 24,
      "metadata": {
        "id": "zJihhAEKIIPW"
      },
      "outputs": [],
      "source": [
        "# read the images\n",
        "def load_images(path):\n",
        "  images = []\n",
        "  for image_path in path:\n",
        "    images.append(cv2.imread(image_path))\n",
        "  return images"
      ]
    },
    {
      "cell_type": "code",
      "execution_count": 27,
      "metadata": {
        "id": "C3wdmGbkGYso"
      },
      "outputs": [],
      "source": [
        "# add Gaussian noise to the images\n",
        "def add_gaussian_noise(images):\n",
        "  gauss_images = []\n",
        "  for i in images:\n",
        "    r,c,ch = i.shape\n",
        "    noise = np.random.normal(0,0.1,(r,c,ch))\n",
        "    noise = noise.reshape(r,c,ch)\n",
        "    gauss_images.append(i + noise)\n",
        "  return gauss_images"
      ]
    },
    {
      "cell_type": "code",
      "execution_count": null,
      "metadata": {
        "colab": {
          "base_uri": "https://localhost:8080/",
          "height": 407
        },
        "id": "HDD3u2lxI7vP",
        "outputId": "c406826f-d3df-4593-c4cd-71d4daf1ccc3"
      },
      "outputs": [],
      "source": [
        "X = np.array(add_gaussian_noise(load_images(images_path)))\n",
        "y = np.array(labels)\n",
        "X_train, X_test, y_train, y_test = train_test_split(X, y, test_size=0.2, random_state=42)\n",
        "model = BaggingClassifier(base_estimator = DecisionTreeClassifier(), n_estimators=50, random_state=42)\n",
        "model = model.fit(X_train, y_train)\n",
        "predicted = model.predict(X) # the predicted labels which will be shown to the user"
      ]
    },
    {
      "cell_type": "code",
      "execution_count": null,
      "metadata": {
        "id": "hFndEcDJPnz4"
      },
      "outputs": [],
      "source": [
        "# "
      ]
    }
  ],
  "metadata": {
    "colab": {
      "provenance": []
    },
    "kernelspec": {
      "display_name": "Python 3",
      "name": "python3"
    },
    "language_info": {
      "name": "python"
    }
  },
  "nbformat": 4,
  "nbformat_minor": 0
}
